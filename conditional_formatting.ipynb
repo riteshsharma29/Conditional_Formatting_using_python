{
 "cells": [
  {
   "cell_type": "markdown",
   "metadata": {},
   "source": [
    "# CONDITIONAL FORMATTING USING pandas & openpyxl"
   ]
  },
  {
   "cell_type": "markdown",
   "metadata": {},
   "source": [
    "# Loading necessary modules"
   ]
  },
  {
   "cell_type": "code",
   "execution_count": 48,
   "metadata": {},
   "outputs": [],
   "source": [
    "import pandas as pd\n",
    "from openpyxl import load_workbook\n",
    "from openpyxl.styles import PatternFill"
   ]
  },
  {
   "cell_type": "markdown",
   "metadata": {},
   "source": [
    "# Loading titanic.xlsx excel spreadsheet into an object using openpyxl and into a dataframe using pandas respectively "
   ]
  },
  {
   "cell_type": "code",
   "execution_count": 49,
   "metadata": {},
   "outputs": [
    {
     "data": {
      "text/plain": [
       "Index(['PassengerId', 'Survived', 'Pclass', 'Name', 'Gender', 'Age', 'SibSp',\n",
       "       'Parch', 'Ticket', 'Fare', 'Cabin', 'Embarked'],\n",
       "      dtype='object')"
      ]
     },
     "execution_count": 49,
     "metadata": {},
     "output_type": "execute_result"
    }
   ],
   "source": [
    "book = load_workbook('F:/myprojects/conditional_formatting/titanic.xlsx')\n",
    "df = pd.read_excel('F:/myprojects/conditional_formatting/titanic.xlsx')\n",
    "# listing column headers available in the excel sheet\n",
    "\n",
    "df.columns"
   ]
  },
  {
   "cell_type": "markdown",
   "metadata": {},
   "source": [
    "# Function to perform conditional formatting on the titanic.xlsx excel spreadsheet"
   ]
  },
  {
   "cell_type": "code",
   "execution_count": 50,
   "metadata": {},
   "outputs": [],
   "source": [
    "def conditional_formatting(column_header,sheetname,hexacode,row_value):\n",
    "    c = df.columns\n",
    "    column_index = c.get_loc(column_header)\n",
    "    \n",
    "    #example : [ r for r in df[df['Gender'] == 'Male'].index.to_list() if r > 1]    \n",
    "    \n",
    "    # list comprehension to filter rows having particular values ie male / female etc\n",
    "    rows = [ r for r in df[df[column_header] == row_value].index.to_list() ]\n",
    "    \n",
    "    # looping through the filtered rows, skipping header\n",
    "    for row in rows:\n",
    "        book[sheetname].cell(row=row+2, column=column_index+1).fill = PatternFill(fgColor=hexacode, fill_type='solid')\n",
    "\n",
    "    #   save the file with color formatting\n",
    "    book.save('F:/myprojects/conditional_formatting/titanic.xlsx')\n",
    "    "
   ]
  },
  {
   "cell_type": "markdown",
   "metadata": {},
   "source": [
    "# color cells blue if the Gender column row values are male using conditional_formatting function"
   ]
  },
  {
   "cell_type": "code",
   "execution_count": 51,
   "metadata": {},
   "outputs": [],
   "source": [
    "conditional_formatting(\"Gender\",\"data\",\"0000FF\",\"male\")"
   ]
  },
  {
   "cell_type": "markdown",
   "metadata": {},
   "source": [
    "# color cells Pink if the Gender column row values are female using conditional_formatting function"
   ]
  },
  {
   "cell_type": "code",
   "execution_count": 52,
   "metadata": {},
   "outputs": [],
   "source": [
    "conditional_formatting(\"Gender\",\"data\",\"FFC0CB\",\"female\")"
   ]
  },
  {
   "cell_type": "markdown",
   "metadata": {},
   "source": [
    "# color cells Red if the Survived column row values are 0 using conditional_formatting function"
   ]
  },
  {
   "cell_type": "code",
   "execution_count": 53,
   "metadata": {},
   "outputs": [],
   "source": [
    "conditional_formatting(\"Survived\",\"data\",\"FF0000\",0)"
   ]
  },
  {
   "cell_type": "markdown",
   "metadata": {},
   "source": [
    "# color cells Green if the Survived column row values are 1 using conditional_formatting function"
   ]
  },
  {
   "cell_type": "code",
   "execution_count": 54,
   "metadata": {},
   "outputs": [],
   "source": [
    "conditional_formatting(\"Survived\",\"data\",\"008000\",1)"
   ]
  },
  {
   "cell_type": "code",
   "execution_count": null,
   "metadata": {},
   "outputs": [],
   "source": []
  }
 ],
 "metadata": {
  "kernelspec": {
   "display_name": "Python 3",
   "language": "python",
   "name": "python3"
  },
  "language_info": {
   "codemirror_mode": {
    "name": "ipython",
    "version": 3
   },
   "file_extension": ".py",
   "mimetype": "text/x-python",
   "name": "python",
   "nbconvert_exporter": "python",
   "pygments_lexer": "ipython3",
   "version": "3.7.3"
  }
 },
 "nbformat": 4,
 "nbformat_minor": 2
}
